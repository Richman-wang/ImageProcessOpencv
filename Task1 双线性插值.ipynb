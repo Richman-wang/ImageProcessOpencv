{
 "cells": [
  {
   "cell_type": "code",
   "execution_count": 2,
   "metadata": {},
   "outputs": [
    {
     "name": "stdout",
     "output_type": "stream",
     "text": [
      "Original Dimensions :  (2736, 3648, 3)\n",
      "Resized Dimensions :  (820, 1094, 3)\n"
     ]
    }
   ],
   "source": [
    "import cv2\n",
    " \n",
    "if __name__ == \"__main__\":\n",
    "    img = cv2.imread('./picture.jpg', cv2.IMREAD_UNCHANGED)\n",
    "    \n",
    "    print('Original Dimensions : ',img.shape)\n",
    "    \n",
    "    scale_percent = 30       # percent of original size\n",
    "    width = int(img.shape[1] * scale_percent / 100)\n",
    "    height = int(img.shape[0] * scale_percent / 100)\n",
    "    dim = (width, height)\n",
    "    # resize image\n",
    "    resized = cv2.resize(img, dim, interpolation = cv2.INTER_LINEAR)\n",
    "\n",
    "    fx = 0.5\n",
    "    fy = 0.5\n",
    "\n",
    "    resized1 = cv2.resize(resized, dsize=None, fx=fx, fy=fy, interpolation = cv2.INTER_NEAREST)\n",
    "    \n",
    "    resized2 = cv2.resize(resized, dsize=None, fx=fx, fy=fy, interpolation = cv2.INTER_LINEAR)\n",
    "    print('Resized Dimensions : ',resized.shape)\n",
    "    \n",
    "    cv2.imshow(\"Resized image\", resized)\n",
    "    cv2.imshow(\"INTER_NEAREST image\", resized1)\n",
    "    cv2.imshow(\"INTER_LINEAR image\", resized2)\n",
    "    cv2.waitKey(0)\n",
    "    cv2.destroyAllWindows()"
   ]
  },
  {
   "cell_type": "code",
   "execution_count": null,
   "metadata": {},
   "outputs": [],
   "source": []
  }
 ],
 "metadata": {
  "kernelspec": {
   "display_name": "Python 3",
   "language": "python",
   "name": "python3"
  },
  "language_info": {
   "codemirror_mode": {
    "name": "ipython",
    "version": 3
   },
   "file_extension": ".py",
   "mimetype": "text/x-python",
   "name": "python",
   "nbconvert_exporter": "python",
   "pygments_lexer": "ipython3",
   "version": "3.7.7"
  }
 },
 "nbformat": 4,
 "nbformat_minor": 4
}
